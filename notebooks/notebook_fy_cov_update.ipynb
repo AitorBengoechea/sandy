{
 "cells": [
  {
   "cell_type": "code",
   "execution_count": null,
   "id": "584f7f29",
   "metadata": {},
   "outputs": [],
   "source": [
    "import sandy\n",
    "import numpy as np\n",
    "import pandas as pd"
   ]
  },
  {
   "cell_type": "code",
   "execution_count": null,
   "id": "08289b89",
   "metadata": {},
   "outputs": [],
   "source": [
    "import matplotlib.pyplot as plt\n",
    "import seaborn as sns\n",
    "sns.set_style(\"whitegrid\")"
   ]
  },
  {
   "cell_type": "code",
   "execution_count": null,
   "id": "56b989b0",
   "metadata": {},
   "outputs": [],
   "source": [
    "tape = sandy.get_endf6_file(\"endfb_71\", 'nfpy', 'all')\n",
    "fy = sandy.Fy.from_endf6(tape)"
   ]
  },
  {
   "cell_type": "code",
   "execution_count": null,
   "id": "ebb39e24",
   "metadata": {},
   "outputs": [],
   "source": [
    "energy = 'thermal'\n",
    "zam = 922350\n",
    "chy = sandy.fy.get_chain_yields().query(f\"E=='{energy}' & ZAM=={zam}\").set_index(\"A\")\n",
    "Vy_extra = sandy.CategoryCov.from_stdev(chy.DCHY).data\n",
    "cov = fy.gls_cov_update(\n",
    "    zam=zam,\n",
    "    e=2.53e-2,\n",
    "    Vy_extra=Vy_extra,\n",
    "    kind=\"mass yield\",\n",
    "    rows=None,\n",
    "    decay_data=None,\n",
    "    threshold=None,\n",
    ")"
   ]
  },
  {
   "cell_type": "code",
   "execution_count": null,
   "id": "1978c511",
   "metadata": {},
   "outputs": [],
   "source": [
    "fig, axs = plt.subplots(1, 2, figsize=(10, 6), dpi=100)\n",
    "\n",
    "corr = cov.get_corr()\n",
    "\n",
    "ax = axs[0]\n",
    "ax.set_aspect('equal')\n",
    "sns.heatmap(corr, vmin=-1, vmax=1, cmap=\"bwr\", ax=ax)\n",
    "ax.set_title('correlation matrix')\n",
    "\n",
    "ax = axs[1]\n",
    "ax.set_aspect('equal')\n",
    "ax.spy(corr)\n",
    "ax.set_title('SPY matrix')\n",
    "\n",
    "fig.tight_layout()"
   ]
  },
  {
   "cell_type": "code",
   "execution_count": null,
   "id": "0337cb9e",
   "metadata": {},
   "outputs": [],
   "source": [
    "e = 2.53000e-02\n",
    "fy_u235t = fy.data.query(f\"E=={e} & ZAM=={zam} & MT==454\")\n",
    "fy_dict = fy_u235t.set_index(\"ZAP\").FY.to_dict()\n",
    "\n",
    "std_prior = fy_u235t[[\"ZAP\", \"DFY\"]].reset_index(drop=True).assign(kind=\"prior\")\n",
    "std_post = pd.Series(np.sqrt(np.diag(cov.data)), index=cov.data.index).rename(\"DFY\").reset_index().assign(kind=\"posterior\")\n",
    "std = pd.concat([std_prior, std_post], ignore_index=True)\n",
    "std[\"FY\"] = std.ZAP.apply(lambda x: fy_dict[x])\n",
    "\n",
    "z_a_m = pd.DataFrame(\n",
    "    map(sandy.shared.expand_zam, std.ZAP),\n",
    "    columns=[\"Z\", \"A\", \"M\"],\n",
    "    dtype=int,\n",
    ")\n",
    "std = std.merge(z_a_m, left_index=True, right_index=True)\n",
    "\n",
    "std = std.loc[std.FY!=0]  # remove zeros\n",
    "std[\"DFY\"] *= 100 / std[\"FY\"]"
   ]
  },
  {
   "cell_type": "code",
   "execution_count": null,
   "id": "51914f44",
   "metadata": {},
   "outputs": [],
   "source": [
    "fig, ax = plt.subplots(figsize=(8, 4), dpi=100)\n",
    "sns.scatterplot(data=std, x=\"Z\", y=\"DFY\", hue=\"kind\", style=\"kind\", size=\"A\")\n",
    "ax.set_ylabel(\"indepedendent FY uncertainty / %\")\n",
    "fig.tight_layout()"
   ]
  }
 ],
 "metadata": {
  "kernelspec": {
   "display_name": "Python3 (sandy-devel)",
   "language": "python",
   "name": "sandy-devel"
  },
  "language_info": {
   "codemirror_mode": {
    "name": "ipython",
    "version": 3
   },
   "file_extension": ".py",
   "mimetype": "text/x-python",
   "name": "python",
   "nbconvert_exporter": "python",
   "pygments_lexer": "ipython3",
   "version": "3.7.10"
  }
 },
 "nbformat": 4,
 "nbformat_minor": 5
}
